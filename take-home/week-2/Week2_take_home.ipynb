{
  "cells": [
    {
      "cell_type": "markdown",
      "metadata": {
        "id": "ezlXaH5e2up_"
      },
      "source": [
        "## Take home exercises\n",
        "\n",
        "Numpy Questions\n",
        "\n",
        "  1. Define two custom numpy arrays, say A and B. Generate two new numpy\n",
        "  arrays by stacking A and B vertically and horizontally.\n",
        "  2. Find common elements between A and B. [Hint : Intersection of two sets]\n",
        "  3. Extract all numbers from A which are within a specific range. eg\n",
        "  between 5 and 10. [Hint: np.where() might be useful or boolean masks]\n",
        "  4. Filter the rows of iris_2d that has petallength (3rd column) > 1.5\n",
        "  and sepallength (1st column) < 5.0\n",
        "  url = 'https://archive.ics.uci.edu/ml/machine-learning-databases/iris/iris.data'\n",
        "  iris_2d = np.genfromtxt(url, delimiter=',', dtype='float', usecols=[0,1,2,3])\n",
        "\n",
        "Pandas Questions\n",
        "1. From df filter the 'Manufacturer', 'Model' and 'Type' for every\n",
        "20th row starting from 1st (row 0).\n",
        "```\n",
        "df = pd.read_csv('https://raw.githubusercontent.com/selva86/datasets/master/Cars93_miss.csv')\n",
        "```\n",
        "2. Replace missing values in Min.Price and Max.Price columns with\n",
        "their respective mean.\n",
        "```\n",
        "df = pd.read_csv('https://raw.githubusercontent.com/selva86/datasets/master/Cars93_miss.csv')\n",
        "```\n",
        "3. How to get the rows of a dataframe with row sum > 100?\n",
        "```\n",
        "df = pd.DataFrame(np.random.randint(10, 40, 60).reshape(-1, 4))\n"
      ]
    },
    {
      "cell_type": "code",
      "execution_count": 1,
      "metadata": {},
      "outputs": [],
      "source": [
        "import numpy as np\n",
        "import pandas as pd"
      ]
    },
    {
      "cell_type": "code",
      "execution_count": 2,
      "metadata": {},
      "outputs": [],
      "source": [
        "A = np.array([[10, 12, 3], [4, 8, 6]])\n",
        "B = np.array([[7, 12, 9], [10, 11, 12]])"
      ]
    },
    {
      "cell_type": "code",
      "execution_count": 3,
      "metadata": {},
      "outputs": [
        {
          "name": "stdout",
          "output_type": "stream",
          "text": [
            "Vertical Stack:\n",
            " [[10 12  3]\n",
            " [ 4  8  6]\n",
            " [ 7 12  9]\n",
            " [10 11 12]]\n",
            "Horizontal Stack:\n",
            " [[10 12  3  7 12  9]\n",
            " [ 4  8  6 10 11 12]]\n"
          ]
        }
      ],
      "source": [
        "# Stack vertically\n",
        "vertical_stack = np.vstack((A, B))\n",
        "print(\"Vertical Stack:\\n\", vertical_stack)\n",
        "\n",
        "horizontal_stack = np.hstack((A, B))\n",
        "print(\"Horizontal Stack:\\n\", horizontal_stack)"
      ]
    },
    {
      "cell_type": "code",
      "execution_count": 4,
      "metadata": {},
      "outputs": [
        {
          "name": "stdout",
          "output_type": "stream",
          "text": [
            "Common Elements: [10 12]\n"
          ]
        }
      ],
      "source": [
        "# 2. Finding common elements between A and B.\n",
        "common_elements = np.intersect1d(A, B)\n",
        "print(\"Common Elements:\", common_elements)"
      ]
    },
    {
      "cell_type": "code",
      "execution_count": 5,
      "metadata": {},
      "outputs": [
        {
          "name": "stdout",
          "output_type": "stream",
          "text": [
            "Elements in A between 5 and 10: [10  8  6]\n"
          ]
        }
      ],
      "source": [
        "# 3. Extract all numbers from A which are within a specific range. eg between 5 and 10.\n",
        "range_elements = A[(A >= 5) & (A <= 10)]\n",
        "print(\"Elements in A between 5 and 10:\", range_elements)"
      ]
    },
    {
      "cell_type": "code",
      "execution_count": 6,
      "metadata": {
        "id": "7RbAd58HUDOc"
      },
      "outputs": [
        {
          "name": "stdout",
          "output_type": "stream",
          "text": [
            "Filtered Iris Rows:\n",
            " [[4.8 3.4 1.6 0.2]\n",
            " [4.8 3.4 1.9 0.2]\n",
            " [4.7 3.2 1.6 0.2]\n",
            " [4.8 3.1 1.6 0.2]\n",
            " [4.9 2.4 3.3 1. ]\n",
            " [4.9 2.5 4.5 1.7]]\n"
          ]
        }
      ],
      "source": [
        "# 4. Filter the rows of iris_2d that has petallength (3rd column) > 1.5 and sepallength (1st column) < 5.0\n",
        "url = 'https://archive.ics.uci.edu/ml/machine-learning-databases/iris/iris.data'\n",
        "iris_2d = np.genfromtxt(url, delimiter=',', dtype='float', usecols=[0, 1, 2, 3])\n",
        "filtered_iris = iris_2d[(iris_2d[:, 2] > 1.5) & (iris_2d[:, 0] < 5.0)]\n",
        "print(\"Filtered Iris Rows:\\n\", filtered_iris)"
      ]
    },
    {
      "cell_type": "markdown",
      "metadata": {},
      "source": [
        "### Pandas Question "
      ]
    },
    {
      "cell_type": "code",
      "execution_count": 7,
      "metadata": {},
      "outputs": [
        {
          "name": "stdout",
          "output_type": "stream",
          "text": [
            "Every 20th row:\n",
            "    Manufacturer    Model     Type\n",
            "0         Acura  Integra    Small\n",
            "20     Chrysler  LeBaron  Compact\n",
            "40        Honda  Prelude   Sporty\n",
            "60      Mercury   Cougar  Midsize\n",
            "80       Subaru   Loyale    Small\n"
          ]
        }
      ],
      "source": [
        "# 5. From df filter the 'Manufacturer', 'Model' and 'Type' for every 20th row starting from 1st (row 0).\n",
        "df = pd.read_csv('https://raw.githubusercontent.com/selva86/datasets/master/Cars93_miss.csv')\n",
        "every_20th_row = df.loc[::20, ['Manufacturer', 'Model', 'Type']]\n",
        "print(\"Every 20th row:\\n\", every_20th_row)"
      ]
    },
    {
      "cell_type": "code",
      "execution_count": 8,
      "metadata": {},
      "outputs": [
        {
          "name": "stdout",
          "output_type": "stream",
          "text": [
            "After replacing missing values:\n",
            "   Min.Price  Max.Price\n",
            "0  12.900000  18.800000\n",
            "1  29.200000  38.700000\n",
            "2  25.900000  32.300000\n",
            "3  17.118605  44.600000\n",
            "4  17.118605  21.459091\n"
          ]
        },
        {
          "name": "stderr",
          "output_type": "stream",
          "text": [
            "/var/folders/p9/vr_bj_hd2tl8js62dy5tc5fc0000gn/T/ipykernel_18773/3658150691.py:2: FutureWarning: A value is trying to be set on a copy of a DataFrame or Series through chained assignment using an inplace method.\n",
            "The behavior will change in pandas 3.0. This inplace method will never work because the intermediate object on which we are setting values always behaves as a copy.\n",
            "\n",
            "For example, when doing 'df[col].method(value, inplace=True)', try using 'df.method({col: value}, inplace=True)' or df[col] = df[col].method(value) instead, to perform the operation inplace on the original object.\n",
            "\n",
            "\n",
            "  df['Min.Price'].fillna(df['Min.Price'].mean(), inplace=True)\n",
            "/var/folders/p9/vr_bj_hd2tl8js62dy5tc5fc0000gn/T/ipykernel_18773/3658150691.py:3: FutureWarning: A value is trying to be set on a copy of a DataFrame or Series through chained assignment using an inplace method.\n",
            "The behavior will change in pandas 3.0. This inplace method will never work because the intermediate object on which we are setting values always behaves as a copy.\n",
            "\n",
            "For example, when doing 'df[col].method(value, inplace=True)', try using 'df.method({col: value}, inplace=True)' or df[col] = df[col].method(value) instead, to perform the operation inplace on the original object.\n",
            "\n",
            "\n",
            "  df['Max.Price'].fillna(df['Max.Price'].mean(), inplace=True)\n"
          ]
        }
      ],
      "source": [
        "# 6. Replace missing values in Min.Price and Max.Price columns with their respective mean.\n",
        "df['Min.Price'].fillna(df['Min.Price'].mean(), inplace=True)\n",
        "df['Max.Price'].fillna(df['Max.Price'].mean(), inplace=True)\n",
        "print(\"After replacing missing values:\")\n",
        "print(df[['Min.Price', 'Max.Price']].head())\n"
      ]
    },
    {
      "cell_type": "code",
      "execution_count": 9,
      "metadata": {},
      "outputs": [
        {
          "name": "stdout",
          "output_type": "stream",
          "text": [
            "Rows with sum > 100:\n",
            "      0   1   2   3\n",
            "0   23  27  31  23\n",
            "1   24  34  29  21\n",
            "5   33  13  23  32\n",
            "7   23  23  38  31\n",
            "8   31  16  29  39\n",
            "10  30  32  21  28\n",
            "11  34  33  36  39\n",
            "13  35  19  22  25\n",
            "14  14  32  29  27\n"
          ]
        }
      ],
      "source": [
        "# 7. How to get the rows of a dataframe with row sum > 100?\n",
        "df_random = pd.DataFrame(np.random.randint(10, 40, 60).reshape(-1, 4))\n",
        "row_sum_gt_100 = df_random[df_random.sum(axis=1) > 100]\n",
        "print(\"Rows with sum > 100:\\n\", row_sum_gt_100)"
      ]
    },
    {
      "cell_type": "code",
      "execution_count": null,
      "metadata": {},
      "outputs": [],
      "source": []
    }
  ],
  "metadata": {
    "colab": {
      "provenance": []
    },
    "kernelspec": {
      "display_name": "bootcamp",
      "language": "python",
      "name": "python3"
    },
    "language_info": {
      "codemirror_mode": {
        "name": "ipython",
        "version": 3
      },
      "file_extension": ".py",
      "mimetype": "text/x-python",
      "name": "python",
      "nbconvert_exporter": "python",
      "pygments_lexer": "ipython3",
      "version": "3.12.7"
    }
  },
  "nbformat": 4,
  "nbformat_minor": 0
}
