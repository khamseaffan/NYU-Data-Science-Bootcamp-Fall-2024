{
  "cells": [
    {
      "cell_type": "markdown",
      "metadata": {
        "id": "ezlXaH5e2up_"
      },
      "source": [
        "## Take home exercises\n",
        "\n",
        "1. Write a function  *count_vowels(word)* that takes a word as an argument and returns the number of vowels in the word\n",
        "2. Iterate through the following list of animals and print each one in all caps.\n",
        "\n",
        "  animals=['tiger', 'elephant', 'monkey', 'zebra', 'panther']\n",
        "\n",
        "3. Write a program that iterates from 1 to 20, printing each number and whether it's odd or even.\n",
        "4. Write a function *sum_of_integers(a, b)* that takes two integers as input from the user and returns their sum.\n"
      ]
    },
    {
      "cell_type": "code",
      "execution_count": 1,
      "metadata": {},
      "outputs": [],
      "source": [
        "# 1. Write a function  *count_vowels(word)* that takes a word as an argument and returns the number of vowels in the word\n",
        "def count_vowels(word):\n",
        "    vowel = 'aeiou'\n",
        "    count = 0\n",
        "\n",
        "    for letter in word.lower():\n",
        "        if letter in vowel:\n",
        "            count += 1\n",
        "    \n",
        "    return count\n",
        "\n",
        "# print(count_vowels(\"AffanKhamse\"))"
      ]
    },
    {
      "cell_type": "code",
      "execution_count": 2,
      "metadata": {},
      "outputs": [
        {
          "name": "stdout",
          "output_type": "stream",
          "text": [
            "TIGER\n",
            "ELEPHANT\n",
            "MONKEY\n",
            "ZEBRA\n",
            "PANTHER\n"
          ]
        }
      ],
      "source": [
        "# 2. Iterate through the following list of animals and print each one in all caps.\n",
        "animals=['tiger', 'elephant', 'monkey', 'zebra', 'panther']\n",
        "\n",
        "for animal in animals:\n",
        "    print(animal.upper())"
      ]
    },
    {
      "cell_type": "code",
      "execution_count": 3,
      "metadata": {},
      "outputs": [
        {
          "name": "stdout",
          "output_type": "stream",
          "text": [
            "#1 is odd\n",
            "#2 is even\n",
            "#3 is odd\n",
            "#4 is even\n",
            "#5 is odd\n",
            "#6 is even\n",
            "#7 is odd\n",
            "#8 is even\n",
            "#9 is odd\n",
            "#10 is even\n",
            "#11 is odd\n",
            "#12 is even\n",
            "#13 is odd\n",
            "#14 is even\n",
            "#15 is odd\n",
            "#16 is even\n",
            "#17 is odd\n",
            "#18 is even\n",
            "#19 is odd\n",
            "#20 is even\n"
          ]
        }
      ],
      "source": [
        "# 3. Write a program that iterates from 1 to 20, printing each number and whether it's odd or even.\n",
        "\n",
        "for i in range(1,21):\n",
        "    if i % 2  == 0:\n",
        "        print(f\"#{i} is even\")\n",
        "    else:\n",
        "        print(f\"#{i} is odd\")"
      ]
    },
    {
      "cell_type": "code",
      "execution_count": 4,
      "metadata": {},
      "outputs": [
        {
          "name": "stdout",
          "output_type": "stream",
          "text": [
            "38\n"
          ]
        }
      ],
      "source": [
        "# 4. Write a function *sum_of_integers(a, b)* that takes two integers as input from the user and returns their sum.\n",
        "def sum_of_integers(a, b):\n",
        "    return a+b\n",
        "\n",
        "print(sum_of_integers(10,28))"
      ]
    },
    {
      "cell_type": "markdown",
      "metadata": {
        "id": "8BtJxyCP7MN2"
      },
      "source": [
        "## Additional Challenge - Books data challenge"
      ]
    },
    {
      "cell_type": "code",
      "execution_count": 5,
      "metadata": {
        "id": "7RbAd58HUDOc"
      },
      "outputs": [],
      "source": [
        "books = [\n",
        "    {\n",
        "        \"title\": \"The Great Gatsby\",\n",
        "        \"author\": \"F. Scott Fitzgerald\",\n",
        "        \"genre\": \"Fiction\",\n",
        "        \"rating\": 4.2\n",
        "    },\n",
        "    {\n",
        "        \"title\": \"To Kill a Mockingbird\",\n",
        "        \"author\": \"Harper Lee\",\n",
        "        \"genre\": \"Classic\",\n",
        "        \"rating\": 4.5\n",
        "    },\n",
        "    {\n",
        "        \"title\": \"1984\",\n",
        "        \"author\": \"George Orwell\",\n",
        "        \"genre\": \"Dystopian\",\n",
        "        \"rating\": 4.8\n",
        "    },\n",
        "    {\n",
        "        \"title\": \"Pride and Prejudice\",\n",
        "        \"author\": \"Jane Austen\",\n",
        "        \"genre\": \"Romance\",\n",
        "        \"rating\": 4.7\n",
        "    },\n",
        "    {\n",
        "        \"title\": \"Harry Potter and the Sorcerer's Stone\",\n",
        "        \"author\": \"J.K. Rowling\",\n",
        "        \"genre\": \"Fantasy\",\n",
        "        \"rating\": 4.9\n",
        "    },\n",
        "    {\n",
        "        \"title\": \"The Catcher in the Rye\",\n",
        "        \"author\": \"J.D. Salinger\",\n",
        "        \"genre\": \"Coming-of-age\",\n",
        "        \"rating\": 4.1\n",
        "    }\n",
        "]"
      ]
    },
    {
      "cell_type": "markdown",
      "metadata": {
        "id": "EiR5GmoY7VzW"
      },
      "source": [
        "1.Checking Book Ratings\n",
        "\n",
        "Write a function `check_rating(book)` that takes a book dictionary and returns True if the rating is greater than 4.5, and False otherwise. Additionally, modify the function to return 'low' if the rating is less than or equal to 4.0, 'medium' if it's greater than 4.0 but less than or equal to 4.5, and 'high' if it's greater than 4.5.\n",
        "\n",
        "2.Average Rating by Genre\n",
        "\n",
        "Write a function `average_rating_by_genre(books, genre)` that accepts the list of books and a genre, and returns the average rating for that genre. If the genre does not exist in the list, return an appropriate message.\n",
        "\n",
        "3.Books by Author\n",
        "\n",
        "Write a function `books_by_author(books, author)` that accepts the book list and an author's name, and returns a list of all the books written by that author. If the author does not exist, raise a custom error."
      ]
    },
    {
      "cell_type": "code",
      "execution_count": 6,
      "metadata": {
        "id": "fAUCBBoxDXJ7"
      },
      "outputs": [
        {
          "name": "stdout",
          "output_type": "stream",
          "text": [
            "False\n",
            "False\n",
            "True\n",
            "True\n",
            "True\n",
            "False\n"
          ]
        }
      ],
      "source": [
        "def check_rating(book):\n",
        "    if book[\"rating\"] > 4.5:\n",
        "        return True\n",
        "    else:\n",
        "        return False\n",
        "    \n",
        "    # Additional modification\n",
        "    \n",
        "    # if book[\"rating\"] <= 4.0:\n",
        "    #     return \"low\"\n",
        "    # elif book[\"rating\"] <= 4.5:\n",
        "    #     return \"medium\"\n",
        "    # else:\n",
        "    #     return \"high\"\n",
        "\n",
        "for book in books:\n",
        "    print(check_rating(book))\n"
      ]
    },
    {
      "cell_type": "code",
      "execution_count": null,
      "metadata": {},
      "outputs": [],
      "source": []
    }
  ],
  "metadata": {
    "colab": {
      "provenance": []
    },
    "kernelspec": {
      "display_name": "Python 3 (ipykernel)",
      "language": "python",
      "name": "python3"
    },
    "language_info": {
      "codemirror_mode": {
        "name": "ipython",
        "version": 3
      },
      "file_extension": ".py",
      "mimetype": "text/x-python",
      "name": "python",
      "nbconvert_exporter": "python",
      "pygments_lexer": "ipython3",
      "version": "3.12.6"
    }
  },
  "nbformat": 4,
  "nbformat_minor": 0
}
